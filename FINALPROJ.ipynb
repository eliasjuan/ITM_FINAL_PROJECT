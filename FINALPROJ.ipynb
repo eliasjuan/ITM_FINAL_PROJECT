{
 "cells": [
  {
   "cell_type": "code",
   "execution_count": 7,
   "id": "2ece968a",
   "metadata": {},
   "outputs": [
    {
     "name": "stdout",
     "output_type": "stream",
     "text": [
      "Input Category (bath/fashion/tech/schoolsup/toys): schoolsup\n"
     ]
    }
   ],
   "source": [
    "from collections import Counter\n",
    "from sklearn.feature_extraction.text import CountVectorizer\n",
    "from sklearn.metrics.pairwise import cosine_similarity\n",
    "import pandas as pd \n",
    "import numpy as np \n",
    "\n",
    "def cosine_similarity(item1,item2):\n",
    "    items = [item1, item2]\n",
    "    count_vectorizer = CountVectorizer(stop_words='english')\n",
    "    count_vectorizer = CountVectorizer() \n",
    "    sparse_matrix = count_vectorizer.fit_transform(items) #change items\n",
    "\n",
    "    from sklearn.metrics.pairwise import cosine_similarity\n",
    "    return cosine_similarity(sparse_matrix)[0][1] #get value from the matrix\n",
    "\n",
    "cat = input(\"Input Category (bath/fashion/tech/schoolsup/toys): \")\n",
    "\n",
    "l_file = \"./data/\" + cat + \"/lazada.csv\"\n",
    "s_file = \"./data/\" + cat + \"/shopee.csv\"\n",
    "try:\n",
    "    lazada = pd.read_csv(l_file)\n",
    "    shopee = pd.read_csv(s_file)\n",
    "except:\n",
    "    print(\"Category Error.\")\n",
    "\n",
    "shopee[\"Price\"] = shopee[\"Price\"].replace(\",\",\"\",regex=True)\n",
    "shopee[\"Price\"] = shopee['Price'].astype(float)\n",
    "lazada[\"Price\"] = lazada[\"Price\"].replace(\",\",\"\",regex=True)\n",
    "lazada[\"Price\"] = lazada['Price'].astype(float)\n",
    "\n",
    "items_comparison = []\n",
    "for index1, row1 in lazada.iterrows():\n",
    "    templist = []\n",
    "    for index2, row2 in shopee.iterrows():\n",
    "        if cosine_similarity(row1['Product'],row2['Product']) >= 0.4:\n",
    "            templist.append((row1['Product'],row1[\"Price\"],row2['Product'],row2['Price'],cosine_similarity(row1['Product'],row2['Product'])))\n",
    "        else:\n",
    "            templist.append((row1['Product'],row1[\"Price\"],\"NO SIMILAR PRODUCT FOUND\",float(0.00),0))\n",
    "    templist.sort(key=lambda x:x[4],reverse=True)\n",
    "    items_comparison.append(templist[0])\n",
    "\n",
    "\n",
    "items_df = pd.DataFrame(items_comparison,columns=['Lazada',\"Lazada Price\",'Shopee',\"Shopee Price\",'Cosine Similarity'])\n",
    "items_df[\"Price Difference\"] = items_df[\"Lazada Price\"] - items_df['Shopee Price']\n",
    "row_idx = items_df[\"Shopee\"].str.contains(\"NO SIMILAR PRODUCT FOUND\")\n",
    "col_idx = [\"Shopee\",\"Price Difference\"]\n",
    "no_counterpart = items_df.loc[row_idx,col_idx]\n",
    "no_counterpart['Price Difference'] = \"N/A\"\n",
    "items_df.update(no_counterpart)\n",
    "\n",
    "o_file = \"./output/\" + cat + \".csv\"\n",
    "items_df.to_csv(o_file,index=False)\n",
    "\n",
    "\n"
   ]
  },
  {
   "cell_type": "code",
   "execution_count": 25,
   "id": "a4e74fa8",
   "metadata": {},
   "outputs": [
    {
     "data": {
      "text/html": [
       "<div>\n",
       "<style scoped>\n",
       "    .dataframe tbody tr th:only-of-type {\n",
       "        vertical-align: middle;\n",
       "    }\n",
       "\n",
       "    .dataframe tbody tr th {\n",
       "        vertical-align: top;\n",
       "    }\n",
       "\n",
       "    .dataframe thead th {\n",
       "        text-align: right;\n",
       "    }\n",
       "</style>\n",
       "<table border=\"1\" class=\"dataframe\">\n",
       "  <thead>\n",
       "    <tr style=\"text-align: right;\">\n",
       "      <th></th>\n",
       "      <th>Average Cosine Similarity</th>\n",
       "      <th>Average Price Difference</th>\n",
       "      <th>Average Similar Product Price</th>\n",
       "    </tr>\n",
       "    <tr>\n",
       "      <th>Category</th>\n",
       "      <th></th>\n",
       "      <th></th>\n",
       "      <th></th>\n",
       "    </tr>\n",
       "  </thead>\n",
       "  <tbody>\n",
       "    <tr>\n",
       "      <th>tech</th>\n",
       "      <td>0.612667</td>\n",
       "      <td>-189.751477</td>\n",
       "      <td>4314.954901</td>\n",
       "    </tr>\n",
       "    <tr>\n",
       "      <th>schoolsup</th>\n",
       "      <td>0.857689</td>\n",
       "      <td>131.316458</td>\n",
       "      <td>130.288960</td>\n",
       "    </tr>\n",
       "    <tr>\n",
       "      <th>toys</th>\n",
       "      <td>0.732140</td>\n",
       "      <td>215.806047</td>\n",
       "      <td>382.101931</td>\n",
       "    </tr>\n",
       "    <tr>\n",
       "      <th>bath</th>\n",
       "      <td>0.426509</td>\n",
       "      <td>117.631786</td>\n",
       "      <td>177.860495</td>\n",
       "    </tr>\n",
       "    <tr>\n",
       "      <th>fashion</th>\n",
       "      <td>0.468792</td>\n",
       "      <td>158.353437</td>\n",
       "      <td>161.764208</td>\n",
       "    </tr>\n",
       "  </tbody>\n",
       "</table>\n",
       "</div>"
      ],
      "text/plain": [
       "           Average Cosine Similarity  Average Price Difference  \\\n",
       "Category                                                         \n",
       "tech                        0.612667               -189.751477   \n",
       "schoolsup                   0.857689                131.316458   \n",
       "toys                        0.732140                215.806047   \n",
       "bath                        0.426509                117.631786   \n",
       "fashion                     0.468792                158.353437   \n",
       "\n",
       "           Average Similar Product Price  \n",
       "Category                                  \n",
       "tech                         4314.954901  \n",
       "schoolsup                     130.288960  \n",
       "toys                          382.101931  \n",
       "bath                          177.860495  \n",
       "fashion                       161.764208  "
      ]
     },
     "execution_count": 25,
     "metadata": {},
     "output_type": "execute_result"
    }
   ],
   "source": [
    "tech = pd.read_csv(\"./output/tech.csv\")\n",
    "tech.name = \"tech\"\n",
    "schoolsup = pd.read_csv(\"./output/schoolsup.csv\")\n",
    "schoolsup.name = \"schoolsup\"\n",
    "toys = pd.read_csv(\"./output/toys.csv\")\n",
    "toys.name = \"toys\"\n",
    "bath = pd.read_csv(\"./output/bath.csv\")\n",
    "bath.name = \"bath\"\n",
    "fashion = pd.read_csv(\"./output/fashion.csv\")\n",
    "fashion.name = \"fashion\"\n",
    "\n",
    "cat_list = [tech,schoolsup,toys,bath,fashion]\n",
    "\n",
    "average_list = []\n",
    "for i in cat_list:\n",
    "    \n",
    "    ave_cos = i['Cosine Similarity'].mean()\n",
    "    ave_diff = i['Price Difference'].mean()\n",
    "    ave_laz = i['Lazada Price'].mean()\n",
    "    ave_sho = i['Shopee Price'].mean()\n",
    "    ave_price = (ave_laz + ave_sho)/2\n",
    "    average_list.append((i.name,ave_cos,ave_diff,ave_price))\n",
    "    \n",
    "cat_summary = pd.DataFrame(average_list,columns=['Category','Average Cosine Similarity','Average Price Difference','Average Similar Product Price'])\n",
    "cat_summary = cat_summary.set_index('Category')\n",
    "cat_summary.to_csv(\"./output/summary.csv\",index=True)\n",
    "\n",
    "cat_summary\n",
    "\n",
    "\n"
   ]
  },
  {
   "cell_type": "code",
   "execution_count": 10,
   "id": "6bd36d3a",
   "metadata": {},
   "outputs": [
    {
     "data": {
      "image/png": "[encoded data removed]",
      "text/plain": [
       "<Figure size 432x288 with 1 Axes>"
      ]
     },
     "metadata": {
      "needs_background": "light"
     },
     "output_type": "display_data"
    }
   ],
   "source": [
    "import matplotlib.pyplot as plt\n",
    "%matplotlib inline\n",
    "\n",
    "\n",
    "plt.bar(x=cat_summary['Category'],height=cat_summary['Average Cosine Similarity'],color='#FF6600')\n",
    "plt.xlabel(\"Category\")\n",
    "plt.ylabel(\"Cosine Similiarity\")\n",
    "plt.title(\"Average Cosine Similiarity\")\n",
    "plt.savefig(\"./output/images/cos_sim_ave.png\")\n",
    "\n"
   ]
  },
  {
   "cell_type": "code",
   "execution_count": 11,
   "id": "1ba67023",
   "metadata": {},
   "outputs": [
    {
     "data": {
      "image/png": "[encoded data removed]",
      "text/plain": [
       "<Figure size 432x288 with 1 Axes>"
      ]
     },
     "metadata": {
      "needs_background": "light"
     },
     "output_type": "display_data"
    }
   ],
   "source": [
    "plt.barh(y=cat_summary['Category'],width=cat_summary['Average Price Difference'],color='#FF6600')\n",
    "plt.xlabel(\"Price Difference\")\n",
    "plt.ylabel('Category')\n",
    "plt.title(\"Average Price Difference\")\n",
    "plt.savefig(\"./output/images/price_diff_ave.png\")"
   ]
  },
  {
   "cell_type": "code",
   "execution_count": 21,
   "id": "5f116325",
   "metadata": {},
   "outputs": [
    {
     "data": {
      "image/png": "[encoded data removed]",
      "text/plain": [
       "<Figure size 432x288 with 1 Axes>"
      ]
     },
     "metadata": {
      "needs_background": "light"
     },
     "output_type": "display_data"
    }
   ],
   "source": [
    "cat_summary.plot.scatter(x='Average Similar Product Price',y='Average Price Difference',color='#FF6600')\n",
    "plt.savefig(\"./output/images/scatter_price.png\")\n"
   ]
  },
  {
   "cell_type": "code",
   "execution_count": null,
   "id": "42ef55d1",
   "metadata": {},
   "outputs": [],
   "source": []
  }
 ],
 "metadata": {
  "kernelspec": {
   "display_name": "Python 3",
   "language": "python",
   "name": "python3"
  },
  "language_info": {
   "codemirror_mode": {
    "name": "ipython",
    "version": 3
   },
   "file_extension": ".py",
   "mimetype": "text/x-python",
   "name": "python",
   "nbconvert_exporter": "python",
   "pygments_lexer": "ipython3",
   "version": "3.8.8"
  }
 },
 "nbformat": 4,
 "nbformat_minor": 5
}
